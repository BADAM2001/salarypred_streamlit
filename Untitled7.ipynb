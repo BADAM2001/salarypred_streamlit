{
  "nbformat": 4,
  "nbformat_minor": 0,
  "metadata": {
    "colab": {
      "provenance": []
    },
    "kernelspec": {
      "name": "python3",
      "display_name": "Python 3"
    },
    "language_info": {
      "name": "python"
    }
  },
  "cells": [
    {
      "cell_type": "code",
      "execution_count": 5,
      "metadata": {
        "colab": {
          "base_uri": "https://localhost:8080/"
        },
        "id": "lJ4wvRprlFMH",
        "outputId": "b5110b74-3b42-4385-8b9d-7cebf2f87d83"
      },
      "outputs": [
        {
          "output_type": "stream",
          "name": "stderr",
          "text": [
            "/usr/local/lib/python3.11/dist-packages/sklearn/preprocessing/_encoders.py:246: UserWarning: Found unknown categories in columns [2] during transform. These unknown categories will be encoded as all zeros\n",
            "  warnings.warn(\n",
            "/usr/local/lib/python3.11/dist-packages/sklearn/preprocessing/_encoders.py:246: UserWarning: Found unknown categories in columns [2] during transform. These unknown categories will be encoded as all zeros\n",
            "  warnings.warn(\n",
            "/usr/local/lib/python3.11/dist-packages/sklearn/linear_model/_coordinate_descent.py:656: ConvergenceWarning: Objective did not converge. You might want to increase the number of iterations. Duality gap: 26720103126.498047, tolerance: 1484133856.7444344\n",
            "  model = cd_fast.sparse_enet_coordinate_descent(\n",
            "/usr/local/lib/python3.11/dist-packages/sklearn/preprocessing/_encoders.py:246: UserWarning: Found unknown categories in columns [2] during transform. These unknown categories will be encoded as all zeros\n",
            "  warnings.warn(\n",
            "/usr/local/lib/python3.11/dist-packages/sklearn/preprocessing/_encoders.py:246: UserWarning: Found unknown categories in columns [2] during transform. These unknown categories will be encoded as all zeros\n",
            "  warnings.warn(\n",
            "/usr/local/lib/python3.11/dist-packages/sklearn/preprocessing/_encoders.py:246: UserWarning: Found unknown categories in columns [2] during transform. These unknown categories will be encoded as all zeros\n",
            "  warnings.warn(\n",
            "/usr/local/lib/python3.11/dist-packages/sklearn/preprocessing/_encoders.py:246: UserWarning: Found unknown categories in columns [2] during transform. These unknown categories will be encoded as all zeros\n",
            "  warnings.warn(\n",
            "/usr/local/lib/python3.11/dist-packages/sklearn/preprocessing/_encoders.py:246: UserWarning: Found unknown categories in columns [2] during transform. These unknown categories will be encoded as all zeros\n",
            "  warnings.warn(\n",
            "/usr/local/lib/python3.11/dist-packages/sklearn/preprocessing/_encoders.py:246: UserWarning: Found unknown categories in columns [2] during transform. These unknown categories will be encoded as all zeros\n",
            "  warnings.warn(\n"
          ]
        },
        {
          "output_type": "stream",
          "name": "stdout",
          "text": [
            "Random Forest: R² = 0.9825\n",
            "Decision Tree: R² = 0.9763\n",
            "Gradient Boosting: R² = 0.9221\n",
            "Linear Regression: R² = 0.8765\n",
            "Lasso Regression: R² = 0.8751\n",
            "Ridge Regression: R² = 0.8733\n",
            "ElasticNet Regression: R² = 0.7032\n",
            "Support Vector Regression: R² = 0.0110\n"
          ]
        }
      ],
      "source": [
        "import pandas as pd\n",
        "from sklearn.model_selection import train_test_split\n",
        "from sklearn.preprocessing import OneHotEncoder\n",
        "from sklearn.compose import ColumnTransformer\n",
        "from sklearn.pipeline import Pipeline\n",
        "from sklearn.metrics import r2_score\n",
        "from sklearn.linear_model import LinearRegression, Ridge, Lasso, ElasticNet\n",
        "from sklearn.ensemble import RandomForestRegressor, GradientBoostingRegressor\n",
        "from sklearn.tree import DecisionTreeRegressor\n",
        "from sklearn.svm import SVR\n",
        "df = pd.read_csv(\"/content/Salary_Data.csv\")\n",
        "df = df.dropna()\n",
        "X = df.drop(\"Salary\", axis=1)\n",
        "y = df[\"Salary\"]\n",
        "categorical_cols = [\"Gender\", \"Education Level\", \"Job Title\"]\n",
        "numerical_cols = [\"Age\", \"Years of Experience\"]\n",
        "preprocessor = ColumnTransformer([\n",
        "    (\"cat\", OneHotEncoder(drop=\"first\", handle_unknown='ignore'), categorical_cols)\n",
        "], remainder='passthrough')\n",
        "models = {\n",
        "    \"Linear Regression\": LinearRegression(),\n",
        "    \"Ridge Regression\": Ridge(),\n",
        "    \"Lasso Regression\": Lasso(),\n",
        "    \"ElasticNet Regression\": ElasticNet(),\n",
        "    \"Decision Tree\": DecisionTreeRegressor(),\n",
        "    \"Random Forest\": RandomForestRegressor(),\n",
        "    \"Gradient Boosting\": GradientBoostingRegressor(),\n",
        "    \"Support Vector Regression\": SVR()\n",
        "}\n",
        "X_train, X_test, y_train, y_test = train_test_split(X, y, test_size=0.2, random_state=42)\n",
        "r2_scores = {}\n",
        "for name, model in models.items():\n",
        "    pipeline = Pipeline([\n",
        "        (\"preprocessor\", preprocessor),\n",
        "        (\"model\", model)\n",
        "    ])\n",
        "    pipeline.fit(X_train, y_train)\n",
        "    y_pred = pipeline.predict(X_test)\n",
        "    r2_scores[name] = r2_score(y_test, y_pred)\n",
        "r2_scores_sorted = dict(sorted(r2_scores.items(), key=lambda item: item[1], reverse=True))\n",
        "for model, score in r2_scores_sorted.items():\n",
        "    print(f\"{model}: R² = {score:.4f}\")\n"
      ]
    },
    {
      "cell_type": "code",
      "source": [
        "import numpy as np\n",
        "import pandas as pd\n",
        "from sklearn.model_selection import train_test_split\n",
        "from sklearn.linear_model import LinearRegression\n",
        "from sklearn.preprocessing import OneHotEncoder\n",
        "from sklearn.compose import ColumnTransformer\n",
        "from sklearn.pipeline import Pipeline\n",
        "import pickle\n",
        "salary_data = pd.read_csv('/content/Salary_Data.csv')\n",
        "salary_data = salary_data.dropna()\n",
        "X = salary_data.drop(columns='Salary', axis=1)\n",
        "Y = salary_data['Salary']\n",
        "categorical_columns = ['Gender', 'Education Level', 'Job Title']\n",
        "preprocessor = ColumnTransformer(\n",
        "    transformers=[\n",
        "        ('cat', OneHotEncoder(drop='first', handle_unknown='ignore'), categorical_columns)\n",
        "    ],\n",
        "    remainder='passthrough'\n",
        ")\n",
        "model = Pipeline(steps=[\n",
        "    ('preprocessor', preprocessor),\n",
        "    ('regressor', LinearRegression())\n",
        "])\n",
        "X_train, X_test, Y_train, Y_test = train_test_split(X, Y, test_size=0.2, random_state=42)\n",
        "model.fit(X_train, Y_train)\n",
        "filename = 'salary_prediction_model.sav'\n",
        "pickle.dump(model, open(filename, 'wb'))\n",
        "input_data = {\n",
        "    'Gender': 'Male',\n",
        "    'Education Level': 'Bachelor',\n",
        "    'Job Title': 'Software Engineer',\n",
        "    'Age': 28,\n",
        "    'Years of Experience': 4\n",
        "}\n",
        "input_df = pd.DataFrame([input_data])\n",
        "loaded_model = pickle.load(open('salary_prediction_model.sav', 'rb'))\n",
        "predicted_salary = loaded_model.predict(input_df)\n",
        "print(\"Predicted Salary:\", round(predicted_salary[0], 2), \"USD\")\n",
        "print(\"\\nExpected columns:\")\n",
        "for col in X.columns:\n",
        "    print(col)\n"
      ],
      "metadata": {
        "colab": {
          "base_uri": "https://localhost:8080/"
        },
        "id": "Kn3tZhQ8pPGV",
        "outputId": "1c5bd7a6-7782-4d46-e8ba-1ad4b3143528"
      },
      "execution_count": 6,
      "outputs": [
        {
          "output_type": "stream",
          "name": "stdout",
          "text": [
            "Predicted Salary: 139842.17 USD\n",
            "\n",
            "Expected columns:\n",
            "Age\n",
            "Gender\n",
            "Education Level\n",
            "Job Title\n",
            "Years of Experience\n"
          ]
        },
        {
          "output_type": "stream",
          "name": "stderr",
          "text": [
            "/usr/local/lib/python3.11/dist-packages/sklearn/preprocessing/_encoders.py:246: UserWarning: Found unknown categories in columns [1] during transform. These unknown categories will be encoded as all zeros\n",
            "  warnings.warn(\n"
          ]
        }
      ]
    }
  ]
}